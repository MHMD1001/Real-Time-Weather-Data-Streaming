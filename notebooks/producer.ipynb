{
 "cells": [
  {
   "cell_type": "code",
   "execution_count": null,
   "id": "a573d869-5c3f-4bf4-9df9-aa2df72428ed",
   "metadata": {},
   "outputs": [],
   "source": [
    "!pip install kafka-python"
   ]
  },
  {
   "cell_type": "code",
   "execution_count": 2,
   "id": "de880044-dbef-4737-af48-efaf73320cf2",
   "metadata": {},
   "outputs": [],
   "source": [
    "import json\n",
    "import requests\n",
    "from requests.exceptions import RequestException\n",
    "import time \n",
    "from kafka import KafkaProducer"
   ]
  },
  {
   "cell_type": "code",
   "execution_count": 3,
   "id": "1accf013-08df-4161-b2f0-ab1110fd4826",
   "metadata": {},
   "outputs": [],
   "source": [
    "bootstrap_server = 'broker:29092'\n",
    "api = 'Add Your API Key Here'"
   ]
  },
  {
   "cell_type": "code",
   "execution_count": 4,
   "id": "3f6294d0-3e9f-4bd4-a143-ebc4ca444493",
   "metadata": {},
   "outputs": [],
   "source": [
    "producer = KafkaProducer(bootstrap_servers=bootstrap_server,\n",
    "                        value_serializer = lambda v : json.dumps(v).encode('utf-8'))"
   ]
  },
  {
   "cell_type": "code",
   "execution_count": 5,
   "id": "b9fdba81-d3af-4098-b485-8e25037b68e2",
   "metadata": {},
   "outputs": [],
   "source": [
    "def weather_data_request (city):\n",
    "    url = f'https://api.openweathermap.org/data/2.5/weather?q={city}&appid={api}'\n",
    "    for i in range(3):\n",
    "        try:\n",
    "            response = requests.get(url)\n",
    "            response.raise_for_status()  # Raise an exception for HTTP errors\n",
    "            raw_data = response.json()\n",
    "            weather_data = {\n",
    "                'city_id': raw_data['id'],\n",
    "                'city': raw_data['name'],\n",
    "                'weather_condition': raw_data['weather'][0]['main'],\n",
    "                'weather_description': raw_data['weather'][0]['description'],\n",
    "                'temperature': raw_data['main']['temp'],\n",
    "                'min_temp': raw_data['main']['temp_min'],\n",
    "                'max_temp': raw_data['main']['temp_max'],\n",
    "                'pressure': raw_data['main']['pressure'],\n",
    "                'humidity': raw_data['main']['humidity'],\n",
    "                'wind_speed': raw_data['wind']['speed'],\n",
    "                'visibility': raw_data['visibility']\n",
    "            }\n",
    "            return weather_data\n",
    "        except RequestException as e:\n",
    "            print(f\"Error retrieving weather data for {city}: {e}\")\n",
    "            print(\"Retrying in 5 seconds...\")\n",
    "            time.sleep(5)\n",
    "    return None"
   ]
  },
  {
   "cell_type": "code",
   "execution_count": 6,
   "id": "7f941f64-c7bf-4056-927c-595aa8b9e16f",
   "metadata": {},
   "outputs": [],
   "source": [
    "def correct_time_zone (timestamp):\n",
    "    import datetime\n",
    "    import pytz\n",
    "    time_zone  = pytz.timezone('EET')\n",
    "    local_time = datetime.datetime.fromtimestamp(timestamp, tz=time_zone).strftime('%Y-%m-%d %H:%M:%S')\n",
    "    return local_time"
   ]
  },
  {
   "cell_type": "code",
   "execution_count": 7,
   "id": "479d61ae-f578-420a-8b75-66cce86caac1",
   "metadata": {},
   "outputs": [],
   "source": [
    "def add_creation_time (weather_data):\n",
    "    timestamp = time.time()\n",
    "    weather_data['creation_time']=correct_time_zone(timestamp)\n",
    "    return weather_data"
   ]
  },
  {
   "cell_type": "code",
   "execution_count": 8,
   "id": "2a3e5a64-7b1a-4844-bf5e-60ee4ca09ebd",
   "metadata": {},
   "outputs": [],
   "source": [
    "def get_weather_data(cities):\n",
    "    # cities = ['London', 'Paris']\n",
    "    cities_weather_data = {}\n",
    "    for city in cities:\n",
    "        cities_weather_data[city] = weather_data_request(city)\n",
    "        time.sleep(1)\n",
    "    for city in cities:\n",
    "        add_creation_time(cities_weather_data[city])\n",
    "    return cities_weather_data\n"
   ]
  },
  {
   "cell_type": "code",
   "execution_count": null,
   "id": "3af5f764-0994-4de4-88f5-f4e720a4ce78",
   "metadata": {},
   "outputs": [],
   "source": [
    "while True:\n",
    "    cities = [\"Gaza\", \"Rafah\", \"Cairo\", \"Mecca\", \"Aleppo\"]\n",
    "    final_data = get_weather_data(cities)\n",
    "    producer.send('weather_data',final_data[\"Gaza\"])\n",
    "    producer.send('weather_data',final_data[\"Rafah\"])\n",
    "    producer.send('weather_data',final_data[\"Cairo\"])\n",
    "    producer.send('weather_data',final_data[\"Mecca\"])\n",
    "    producer.send('weather_data',final_data[\"Aleppo\"])\n",
    "    time.sleep(10)"
   ]
  }
 ],
 "metadata": {
  "kernelspec": {
   "display_name": "Python 3 (ipykernel)",
   "language": "python",
   "name": "python3"
  },
  "language_info": {
   "codemirror_mode": {
    "name": "ipython",
    "version": 3
   },
   "file_extension": ".py",
   "mimetype": "text/x-python",
   "name": "python",
   "nbconvert_exporter": "python",
   "pygments_lexer": "ipython3",
   "version": "3.11.6"
  }
 },
 "nbformat": 4,
 "nbformat_minor": 5
}
